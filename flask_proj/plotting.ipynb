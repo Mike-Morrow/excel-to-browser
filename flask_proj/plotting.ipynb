{
 "cells": [
  {
   "cell_type": "code",
   "execution_count": 1,
   "metadata": {
    "collapsed": false
   },
   "outputs": [
    {
     "name": "stdout",
     "output_type": "stream",
     "text": [
      "loaded nvd3 IPython extension\n",
      "run nvd3.ipynb.initialize_javascript() to set up the notebook\n",
      "help(nvd3.ipynb.initialize_javascript) for options\n"
     ]
    }
   ],
   "source": [
    "%matplotlib inline\n",
    "import mpld3\n",
    "from nvd3 import lineChart\n",
    "import numpy as np\n",
    "import matplotlib.pyplot as plt\n",
    "import pandas as pd\n",
    "\n",
    "# chart = lineChart(name=\"lineChart\", x_is_date=False, x_axis_format=\"AM_PM\")\n",
    "\n",
    "# xdata = range(24)\n",
    "# ydata = [0, 0, 1, 1, 0, 0, 0, 0, 1, 0, 0, 4, 3, 3, 5, 7, 5, 3, 16, 6, 9, 15, 4, 12]\n",
    "# ydata2 = [9, 8, 11, 8, 3, 7, 10, 8, 6, 6, 9, 6, 5, 4, 3, 10, 0, 6, 3, 1, 0, 0, 0, 1]\n",
    "\n",
    "# extra_serie = {\"tooltip\": {\"y_start\": \"There are \", \"y_end\": \" calls\"}}\n",
    "# chart.add_serie(y=ydata, x=xdata, name='sine', extra=extra_serie)\n",
    "# extra_serie = {\"tooltip\": {\"y_start\": \"\", \"y_end\": \" min\"}}\n",
    "# chart.add_serie(y=ydata2, x=xdata, name='cose', extra=extra_serie)\n",
    "# chart.buildhtml()"
   ]
  },
  {
   "cell_type": "code",
   "execution_count": 15,
   "metadata": {
    "collapsed": false
   },
   "outputs": [],
   "source": [
    "# %matplotlib inline\n",
    "# import matplotlib.pyplot as plt\n",
    "# import scipy\n",
    "# import scipy.stats\n",
    "# import mpld3\n",
    "# size = 30000\n",
    "# x = scipy.arange(size)\n",
    "# y = scipy.int_(scipy.round_(scipy.stats.vonmises.rvs(5,size=size)*47))\n",
    "# h = plt.hist(y, bins=range(48), color='w')\n",
    "\n",
    "# dist_names = ['gamma', 'beta', 'rayleigh', 'norm', 'pareto']\n",
    "\n",
    "# for dist_name in dist_names:\n",
    "#     dist = getattr(scipy.stats, dist_name)\n",
    "#     param = dist.fit(y)\n",
    "#     pdf_fitted = dist.pdf(x, *param[:-2], loc=param[-2], scale=param[-1]) * size\n",
    "#     plt.plot(pdf_fitted, label=dist_name)\n",
    "#     plt.xlim(0,47)\n",
    "    \n",
    "# plt.legend(loc='upper right')\n",
    "# chart = mpld3.display(plt.show())"
   ]
  },
  {
   "cell_type": "code",
   "execution_count": 57,
   "metadata": {
    "collapsed": false
   },
   "outputs": [
    {
     "data": {
      "text/html": [
       "\n",
       "\n",
       "<style>\n",
       "\n",
       "</style>\n",
       "\n",
       "<div id=\"fig_el860044897215526143893370\"></div>\n",
       "<script>\n",
       "function mpld3_load_lib(url, callback){\n",
       "  var s = document.createElement('script');\n",
       "  s.src = url;\n",
       "  s.async = true;\n",
       "  s.onreadystatechange = s.onload = callback;\n",
       "  s.onerror = function(){console.warn(\"failed to load library \" + url);};\n",
       "  document.getElementsByTagName(\"head\")[0].appendChild(s);\n",
       "}\n",
       "\n",
       "if(typeof(mpld3) !== \"undefined\" && mpld3._mpld3IsLoaded){\n",
       "   // already loaded: just create the figure\n",
       "   !function(mpld3){\n",
       "       \n",
       "       mpld3.draw_figure(\"fig_el860044897215526143893370\", {\"axes\": [{\"xlim\": [0.0, 8.0], \"yscale\": \"linear\", \"axesbg\": \"#FFFFFF\", \"texts\": [], \"zoomable\": true, \"images\": [], \"xdomain\": [0.0, 8.0], \"ylim\": [0.0, 10.0], \"paths\": [], \"sharey\": [], \"sharex\": [], \"axesbgalpha\": null, \"axes\": [{\"scale\": \"linear\", \"tickformat\": null, \"grid\": {\"color\": \"#D3D3D3\", \"alpha\": 0.7, \"dasharray\": \"2,2\", \"gridOn\": true}, \"visible\": true, \"fontsize\": 10.0, \"position\": \"bottom\", \"nticks\": 9, \"tickvalues\": null}, {\"scale\": \"linear\", \"tickformat\": null, \"grid\": {\"color\": \"#D3D3D3\", \"alpha\": 0.7, \"dasharray\": \"2,2\", \"gridOn\": true}, \"visible\": true, \"fontsize\": 10.0, \"position\": \"left\", \"nticks\": 6, \"tickvalues\": null}], \"lines\": [], \"markers\": [], \"id\": \"el86004494418832\", \"ydomain\": [0.0, 10.0], \"collections\": [{\"paths\": [[[[0.0, -0.5], [0.13260155, -0.5], [0.25978993539242673, -0.44731684579412084], [0.3535533905932738, -0.3535533905932738], [0.44731684579412084, -0.25978993539242673], [0.5, -0.13260155], [0.5, 0.0], [0.5, 0.13260155], [0.44731684579412084, 0.25978993539242673], [0.3535533905932738, 0.3535533905932738], [0.25978993539242673, 0.44731684579412084], [0.13260155, 0.5], [0.0, 0.5], [-0.13260155, 0.5], [-0.25978993539242673, 0.44731684579412084], [-0.3535533905932738, 0.3535533905932738], [-0.44731684579412084, 0.25978993539242673], [-0.5, 0.13260155], [-0.5, 0.0], [-0.5, -0.13260155], [-0.44731684579412084, -0.25978993539242673], [-0.3535533905932738, -0.3535533905932738], [-0.25978993539242673, -0.44731684579412084], [-0.13260155, -0.5], [0.0, -0.5]], [\"M\", \"C\", \"C\", \"C\", \"C\", \"C\", \"C\", \"C\", \"C\", \"Z\"]]], \"edgecolors\": [\"#000000\"], \"edgewidths\": [1.0], \"offsets\": \"data01\", \"yindex\": 1, \"id\": \"el86004430763408\", \"pathtransforms\": [[1.1111111111111112, 0.0, 0.0, 1.1111111111111112, 0.0, 0.0], [2.2222222222222223, 0.0, 0.0, 2.2222222222222223, 0.0, 0.0], [2.939723678960656, 0.0, 0.0, 2.939723678960656, 0.0, 0.0], [1.5713484026367723, 0.0, 0.0, 1.5713484026367723, 0.0, 0.0], [1.9245008972987523, 0.0, 0.0, 1.9245008972987523, 0.0, 0.0], [2.721655269759087, 0.0, 0.0, 2.721655269759087, 0.0, 0.0], [9.296222517045285, 0.0, 0.0, 9.296222517045285, 0.0, 0.0]], \"pathcoordinates\": \"display\", \"offsetcoordinates\": \"data\", \"zorder\": 1, \"xindex\": 0, \"alphas\": [null], \"facecolors\": [\"#0000FF\"]}], \"xscale\": \"linear\", \"bbox\": [0.125, 0.125, 0.77500000000000002, 0.77500000000000002]}], \"height\": 320.0, \"width\": 480.0, \"plugins\": [{\"type\": \"reset\"}, {\"enabled\": false, \"button\": true, \"type\": \"zoom\"}, {\"enabled\": false, \"button\": true, \"type\": \"boxzoom\"}], \"data\": {\"data01\": [[1.0, 9.0], [2.0, 4.0], [3.0, 1.0], [4.0, 5.0], [5.0, 2.0], [6.0, 5.0], [7.0, 6.0]]}, \"id\": \"el86004489721552\"});\n",
       "   }(mpld3);\n",
       "}else if(typeof define === \"function\" && define.amd){\n",
       "   // require.js is available: use it to load d3/mpld3\n",
       "   require.config({paths: {d3: \"https://mpld3.github.io/js/d3.v3.min\"}});\n",
       "   require([\"d3\"], function(d3){\n",
       "      window.d3 = d3;\n",
       "      mpld3_load_lib(\"https://mpld3.github.io/js/mpld3.v0.3.js\", function(){\n",
       "         \n",
       "         mpld3.draw_figure(\"fig_el860044897215526143893370\", {\"axes\": [{\"xlim\": [0.0, 8.0], \"yscale\": \"linear\", \"axesbg\": \"#FFFFFF\", \"texts\": [], \"zoomable\": true, \"images\": [], \"xdomain\": [0.0, 8.0], \"ylim\": [0.0, 10.0], \"paths\": [], \"sharey\": [], \"sharex\": [], \"axesbgalpha\": null, \"axes\": [{\"scale\": \"linear\", \"tickformat\": null, \"grid\": {\"color\": \"#D3D3D3\", \"alpha\": 0.7, \"dasharray\": \"2,2\", \"gridOn\": true}, \"visible\": true, \"fontsize\": 10.0, \"position\": \"bottom\", \"nticks\": 9, \"tickvalues\": null}, {\"scale\": \"linear\", \"tickformat\": null, \"grid\": {\"color\": \"#D3D3D3\", \"alpha\": 0.7, \"dasharray\": \"2,2\", \"gridOn\": true}, \"visible\": true, \"fontsize\": 10.0, \"position\": \"left\", \"nticks\": 6, \"tickvalues\": null}], \"lines\": [], \"markers\": [], \"id\": \"el86004494418832\", \"ydomain\": [0.0, 10.0], \"collections\": [{\"paths\": [[[[0.0, -0.5], [0.13260155, -0.5], [0.25978993539242673, -0.44731684579412084], [0.3535533905932738, -0.3535533905932738], [0.44731684579412084, -0.25978993539242673], [0.5, -0.13260155], [0.5, 0.0], [0.5, 0.13260155], [0.44731684579412084, 0.25978993539242673], [0.3535533905932738, 0.3535533905932738], [0.25978993539242673, 0.44731684579412084], [0.13260155, 0.5], [0.0, 0.5], [-0.13260155, 0.5], [-0.25978993539242673, 0.44731684579412084], [-0.3535533905932738, 0.3535533905932738], [-0.44731684579412084, 0.25978993539242673], [-0.5, 0.13260155], [-0.5, 0.0], [-0.5, -0.13260155], [-0.44731684579412084, -0.25978993539242673], [-0.3535533905932738, -0.3535533905932738], [-0.25978993539242673, -0.44731684579412084], [-0.13260155, -0.5], [0.0, -0.5]], [\"M\", \"C\", \"C\", \"C\", \"C\", \"C\", \"C\", \"C\", \"C\", \"Z\"]]], \"edgecolors\": [\"#000000\"], \"edgewidths\": [1.0], \"offsets\": \"data01\", \"yindex\": 1, \"id\": \"el86004430763408\", \"pathtransforms\": [[1.1111111111111112, 0.0, 0.0, 1.1111111111111112, 0.0, 0.0], [2.2222222222222223, 0.0, 0.0, 2.2222222222222223, 0.0, 0.0], [2.939723678960656, 0.0, 0.0, 2.939723678960656, 0.0, 0.0], [1.5713484026367723, 0.0, 0.0, 1.5713484026367723, 0.0, 0.0], [1.9245008972987523, 0.0, 0.0, 1.9245008972987523, 0.0, 0.0], [2.721655269759087, 0.0, 0.0, 2.721655269759087, 0.0, 0.0], [9.296222517045285, 0.0, 0.0, 9.296222517045285, 0.0, 0.0]], \"pathcoordinates\": \"display\", \"offsetcoordinates\": \"data\", \"zorder\": 1, \"xindex\": 0, \"alphas\": [null], \"facecolors\": [\"#0000FF\"]}], \"xscale\": \"linear\", \"bbox\": [0.125, 0.125, 0.77500000000000002, 0.77500000000000002]}], \"height\": 320.0, \"width\": 480.0, \"plugins\": [{\"type\": \"reset\"}, {\"enabled\": false, \"button\": true, \"type\": \"zoom\"}, {\"enabled\": false, \"button\": true, \"type\": \"boxzoom\"}], \"data\": {\"data01\": [[1.0, 9.0], [2.0, 4.0], [3.0, 1.0], [4.0, 5.0], [5.0, 2.0], [6.0, 5.0], [7.0, 6.0]]}, \"id\": \"el86004489721552\"});\n",
       "      });\n",
       "    });\n",
       "}else{\n",
       "    // require.js not available: dynamically load d3 & mpld3\n",
       "    mpld3_load_lib(\"https://mpld3.github.io/js/d3.v3.min.js\", function(){\n",
       "         mpld3_load_lib(\"https://mpld3.github.io/js/mpld3.v0.3.js\", function(){\n",
       "                 \n",
       "                 mpld3.draw_figure(\"fig_el860044897215526143893370\", {\"axes\": [{\"xlim\": [0.0, 8.0], \"yscale\": \"linear\", \"axesbg\": \"#FFFFFF\", \"texts\": [], \"zoomable\": true, \"images\": [], \"xdomain\": [0.0, 8.0], \"ylim\": [0.0, 10.0], \"paths\": [], \"sharey\": [], \"sharex\": [], \"axesbgalpha\": null, \"axes\": [{\"scale\": \"linear\", \"tickformat\": null, \"grid\": {\"color\": \"#D3D3D3\", \"alpha\": 0.7, \"dasharray\": \"2,2\", \"gridOn\": true}, \"visible\": true, \"fontsize\": 10.0, \"position\": \"bottom\", \"nticks\": 9, \"tickvalues\": null}, {\"scale\": \"linear\", \"tickformat\": null, \"grid\": {\"color\": \"#D3D3D3\", \"alpha\": 0.7, \"dasharray\": \"2,2\", \"gridOn\": true}, \"visible\": true, \"fontsize\": 10.0, \"position\": \"left\", \"nticks\": 6, \"tickvalues\": null}], \"lines\": [], \"markers\": [], \"id\": \"el86004494418832\", \"ydomain\": [0.0, 10.0], \"collections\": [{\"paths\": [[[[0.0, -0.5], [0.13260155, -0.5], [0.25978993539242673, -0.44731684579412084], [0.3535533905932738, -0.3535533905932738], [0.44731684579412084, -0.25978993539242673], [0.5, -0.13260155], [0.5, 0.0], [0.5, 0.13260155], [0.44731684579412084, 0.25978993539242673], [0.3535533905932738, 0.3535533905932738], [0.25978993539242673, 0.44731684579412084], [0.13260155, 0.5], [0.0, 0.5], [-0.13260155, 0.5], [-0.25978993539242673, 0.44731684579412084], [-0.3535533905932738, 0.3535533905932738], [-0.44731684579412084, 0.25978993539242673], [-0.5, 0.13260155], [-0.5, 0.0], [-0.5, -0.13260155], [-0.44731684579412084, -0.25978993539242673], [-0.3535533905932738, -0.3535533905932738], [-0.25978993539242673, -0.44731684579412084], [-0.13260155, -0.5], [0.0, -0.5]], [\"M\", \"C\", \"C\", \"C\", \"C\", \"C\", \"C\", \"C\", \"C\", \"Z\"]]], \"edgecolors\": [\"#000000\"], \"edgewidths\": [1.0], \"offsets\": \"data01\", \"yindex\": 1, \"id\": \"el86004430763408\", \"pathtransforms\": [[1.1111111111111112, 0.0, 0.0, 1.1111111111111112, 0.0, 0.0], [2.2222222222222223, 0.0, 0.0, 2.2222222222222223, 0.0, 0.0], [2.939723678960656, 0.0, 0.0, 2.939723678960656, 0.0, 0.0], [1.5713484026367723, 0.0, 0.0, 1.5713484026367723, 0.0, 0.0], [1.9245008972987523, 0.0, 0.0, 1.9245008972987523, 0.0, 0.0], [2.721655269759087, 0.0, 0.0, 2.721655269759087, 0.0, 0.0], [9.296222517045285, 0.0, 0.0, 9.296222517045285, 0.0, 0.0]], \"pathcoordinates\": \"display\", \"offsetcoordinates\": \"data\", \"zorder\": 1, \"xindex\": 0, \"alphas\": [null], \"facecolors\": [\"#0000FF\"]}], \"xscale\": \"linear\", \"bbox\": [0.125, 0.125, 0.77500000000000002, 0.77500000000000002]}], \"height\": 320.0, \"width\": 480.0, \"plugins\": [{\"type\": \"reset\"}, {\"enabled\": false, \"button\": true, \"type\": \"zoom\"}, {\"enabled\": false, \"button\": true, \"type\": \"boxzoom\"}], \"data\": {\"data01\": [[1.0, 9.0], [2.0, 4.0], [3.0, 1.0], [4.0, 5.0], [5.0, 2.0], [6.0, 5.0], [7.0, 6.0]]}, \"id\": \"el86004489721552\"});\n",
       "            })\n",
       "         });\n",
       "}\n",
       "</script>"
      ],
      "text/plain": [
       "<IPython.core.display.HTML object>"
      ]
     },
     "execution_count": 57,
     "metadata": {},
     "output_type": "execute_result"
    }
   ],
   "source": [
    "fig, ax = plt.subplots()\n",
    "np.random.seed(0)\n",
    "\n",
    "input_df = pd.DataFrame()\n",
    "\n",
    "input_df['x'] = [1,2,3,4,5,6,7]\n",
    "input_df['y'] = [9,4,1,5,2,5,6]\n",
    "input_df['z'] = [1,4,7,2,3,6,70]\n",
    "\n",
    "x = list(input_df['x'])\n",
    "y = list(input_df['y'])\n",
    "z = list(input_df['z'])\n",
    "\n",
    "ax.scatter(x, y, z)\n",
    "ax.grid(color='lightgray', alpha=0.7)\n",
    "chart = mpld3.display(fig)\n",
    "chart"
   ]
  },
  {
   "cell_type": "code",
   "execution_count": 44,
   "metadata": {
    "collapsed": false
   },
   "outputs": [
    {
     "name": "stdout",
     "output_type": "stream",
     "text": [
      "<class 'matplotlib.figure.Figure'>\n",
      "<type 'NoneType'>\n"
     ]
    }
   ],
   "source": [
    "print type(fig)\n",
    "print type(plt.show())"
   ]
  },
  {
   "cell_type": "code",
   "execution_count": 65,
   "metadata": {
    "collapsed": false
   },
   "outputs": [
    {
     "data": {
      "image/png": "[encoded data removed]",
      "text/plain": [
       "<matplotlib.figure.Figure at 0x10a8d31d0>"
      ]
     },
     "metadata": {},
     "output_type": "display_data"
    }
   ],
   "source": [
    "# evenly sampled time at 200ms intervals\n",
    "t = np.arange(0., 5., 0.2)\n",
    "\n",
    "# red dashes, blue squares and green triangles\n",
    "plt.plot(t, t, 'r--', t, t**2, 'bs', t, t**3, 'g^')\n",
    "plt.show()"
   ]
  },
  {
   "cell_type": "code",
   "execution_count": 66,
   "metadata": {
    "collapsed": false
   },
   "outputs": [
    {
     "data": {
      "text/html": [
       "\n",
       "\n",
       "<style>\n",
       "\n",
       "</style>\n",
       "\n",
       "<div id=\"fig_el860044038228008784665518\"></div>\n",
       "<script>\n",
       "function mpld3_load_lib(url, callback){\n",
       "  var s = document.createElement('script');\n",
       "  s.src = url;\n",
       "  s.async = true;\n",
       "  s.onreadystatechange = s.onload = callback;\n",
       "  s.onerror = function(){console.warn(\"failed to load library \" + url);};\n",
       "  document.getElementsByTagName(\"head\")[0].appendChild(s);\n",
       "}\n",
       "\n",
       "if(typeof(mpld3) !== \"undefined\" && mpld3._mpld3IsLoaded){\n",
       "   // already loaded: just create the figure\n",
       "   !function(mpld3){\n",
       "       \n",
       "       mpld3.draw_figure(\"fig_el860044038228008784665518\", {\"axes\": [{\"xlim\": [0.0, 5.0], \"yscale\": \"linear\", \"axesbg\": \"#FFFFFF\", \"texts\": [], \"zoomable\": true, \"images\": [], \"xdomain\": [0.0, 5.0], \"ylim\": [0.0, 120.0], \"paths\": [], \"sharey\": [], \"sharex\": [], \"axesbgalpha\": null, \"axes\": [{\"scale\": \"linear\", \"tickformat\": null, \"grid\": {\"color\": \"#D3D3D3\", \"alpha\": 0.7, \"dasharray\": \"2,2\", \"gridOn\": true}, \"visible\": true, \"fontsize\": 10.0, \"position\": \"bottom\", \"nticks\": 6, \"tickvalues\": null}, {\"scale\": \"linear\", \"tickformat\": null, \"grid\": {\"color\": \"#D3D3D3\", \"alpha\": 0.7, \"dasharray\": \"2,2\", \"gridOn\": true}, \"visible\": true, \"fontsize\": 10.0, \"position\": \"left\", \"nticks\": 7, \"tickvalues\": null}], \"lines\": [{\"drawstyle\": \"default\", \"color\": \"#FF0000\", \"yindex\": 1, \"coordinates\": \"data\", \"dasharray\": \"6,6\", \"zorder\": 2, \"alpha\": 1, \"xindex\": 0, \"linewidth\": 1.0, \"data\": \"data01\", \"id\": \"el86004489509712\"}], \"markers\": [{\"edgecolor\": \"#000000\", \"facecolor\": \"#0000FF\", \"edgewidth\": 0.5, \"yindex\": 2, \"coordinates\": \"data\", \"zorder\": 2, \"markerpath\": [[[-3.0, 3.0], [3.0, 3.0], [3.0, -3.0], [-3.0, -3.0]], [\"M\", \"L\", \"L\", \"L\", \"Z\"]], \"alpha\": 1, \"xindex\": 0, \"data\": \"data01\", \"id\": \"el86004461889424pts\"}, {\"edgecolor\": \"#000000\", \"facecolor\": \"#007F00\", \"edgewidth\": 0.5, \"yindex\": 3, \"coordinates\": \"data\", \"zorder\": 2, \"markerpath\": [[[0.0, -3.0], [-3.0, 3.0], [3.0, 3.0]], [\"M\", \"L\", \"L\", \"Z\"]], \"alpha\": 1, \"xindex\": 0, \"data\": \"data01\", \"id\": \"el86004488314640pts\"}], \"id\": \"el86004489507088\", \"ydomain\": [0.0, 120.0], \"collections\": [], \"xscale\": \"linear\", \"bbox\": [0.125, 0.125, 0.77500000000000002, 0.77500000000000002]}], \"height\": 320.0, \"width\": 480.0, \"plugins\": [{\"type\": \"reset\"}, {\"enabled\": false, \"button\": true, \"type\": \"zoom\"}, {\"enabled\": false, \"button\": true, \"type\": \"boxzoom\"}], \"data\": {\"data01\": [[0.0, 0.0, 0.0, 0.0], [0.2, 0.2, 0.04000000000000001, 0.008000000000000002], [0.4, 0.4, 0.16000000000000003, 0.06400000000000002], [0.6000000000000001, 0.6000000000000001, 0.3600000000000001, 0.2160000000000001], [0.8, 0.8, 0.6400000000000001, 0.5120000000000001], [1.0, 1.0, 1.0, 1.0], [1.2000000000000002, 1.2000000000000002, 1.4400000000000004, 1.7280000000000009], [1.4000000000000001, 1.4000000000000001, 1.9600000000000004, 2.7440000000000007], [1.6, 1.6, 2.5600000000000005, 4.096000000000001], [1.8, 1.8, 3.24, 5.832000000000001], [2.0, 2.0, 4.0, 8.0], [2.2, 2.2, 4.840000000000001, 10.648000000000003], [2.4000000000000004, 2.4000000000000004, 5.760000000000002, 13.824000000000007], [2.6, 2.6, 6.760000000000001, 17.576], [2.8000000000000003, 2.8000000000000003, 7.840000000000002, 21.952000000000005], [3.0, 3.0, 9.0, 27.0], [3.2, 3.2, 10.240000000000002, 32.76800000000001], [3.4000000000000004, 3.4000000000000004, 11.560000000000002, 39.30400000000001], [3.6, 3.6, 12.96, 46.656000000000006], [3.8000000000000003, 3.8000000000000003, 14.440000000000001, 54.872000000000014], [4.0, 4.0, 16.0, 64.0], [4.2, 4.2, 17.64, 74.08800000000001], [4.4, 4.4, 19.360000000000003, 85.18400000000003], [4.6000000000000005, 4.6000000000000005, 21.160000000000004, 97.33600000000003], [4.800000000000001, 4.800000000000001, 23.040000000000006, 110.59200000000006]]}, \"id\": \"el86004403822800\"});\n",
       "   }(mpld3);\n",
       "}else if(typeof define === \"function\" && define.amd){\n",
       "   // require.js is available: use it to load d3/mpld3\n",
       "   require.config({paths: {d3: \"https://mpld3.github.io/js/d3.v3.min\"}});\n",
       "   require([\"d3\"], function(d3){\n",
       "      window.d3 = d3;\n",
       "      mpld3_load_lib(\"https://mpld3.github.io/js/mpld3.v0.3.js\", function(){\n",
       "         \n",
       "         mpld3.draw_figure(\"fig_el860044038228008784665518\", {\"axes\": [{\"xlim\": [0.0, 5.0], \"yscale\": \"linear\", \"axesbg\": \"#FFFFFF\", \"texts\": [], \"zoomable\": true, \"images\": [], \"xdomain\": [0.0, 5.0], \"ylim\": [0.0, 120.0], \"paths\": [], \"sharey\": [], \"sharex\": [], \"axesbgalpha\": null, \"axes\": [{\"scale\": \"linear\", \"tickformat\": null, \"grid\": {\"color\": \"#D3D3D3\", \"alpha\": 0.7, \"dasharray\": \"2,2\", \"gridOn\": true}, \"visible\": true, \"fontsize\": 10.0, \"position\": \"bottom\", \"nticks\": 6, \"tickvalues\": null}, {\"scale\": \"linear\", \"tickformat\": null, \"grid\": {\"color\": \"#D3D3D3\", \"alpha\": 0.7, \"dasharray\": \"2,2\", \"gridOn\": true}, \"visible\": true, \"fontsize\": 10.0, \"position\": \"left\", \"nticks\": 7, \"tickvalues\": null}], \"lines\": [{\"drawstyle\": \"default\", \"color\": \"#FF0000\", \"yindex\": 1, \"coordinates\": \"data\", \"dasharray\": \"6,6\", \"zorder\": 2, \"alpha\": 1, \"xindex\": 0, \"linewidth\": 1.0, \"data\": \"data01\", \"id\": \"el86004489509712\"}], \"markers\": [{\"edgecolor\": \"#000000\", \"facecolor\": \"#0000FF\", \"edgewidth\": 0.5, \"yindex\": 2, \"coordinates\": \"data\", \"zorder\": 2, \"markerpath\": [[[-3.0, 3.0], [3.0, 3.0], [3.0, -3.0], [-3.0, -3.0]], [\"M\", \"L\", \"L\", \"L\", \"Z\"]], \"alpha\": 1, \"xindex\": 0, \"data\": \"data01\", \"id\": \"el86004461889424pts\"}, {\"edgecolor\": \"#000000\", \"facecolor\": \"#007F00\", \"edgewidth\": 0.5, \"yindex\": 3, \"coordinates\": \"data\", \"zorder\": 2, \"markerpath\": [[[0.0, -3.0], [-3.0, 3.0], [3.0, 3.0]], [\"M\", \"L\", \"L\", \"Z\"]], \"alpha\": 1, \"xindex\": 0, \"data\": \"data01\", \"id\": \"el86004488314640pts\"}], \"id\": \"el86004489507088\", \"ydomain\": [0.0, 120.0], \"collections\": [], \"xscale\": \"linear\", \"bbox\": [0.125, 0.125, 0.77500000000000002, 0.77500000000000002]}], \"height\": 320.0, \"width\": 480.0, \"plugins\": [{\"type\": \"reset\"}, {\"enabled\": false, \"button\": true, \"type\": \"zoom\"}, {\"enabled\": false, \"button\": true, \"type\": \"boxzoom\"}], \"data\": {\"data01\": [[0.0, 0.0, 0.0, 0.0], [0.2, 0.2, 0.04000000000000001, 0.008000000000000002], [0.4, 0.4, 0.16000000000000003, 0.06400000000000002], [0.6000000000000001, 0.6000000000000001, 0.3600000000000001, 0.2160000000000001], [0.8, 0.8, 0.6400000000000001, 0.5120000000000001], [1.0, 1.0, 1.0, 1.0], [1.2000000000000002, 1.2000000000000002, 1.4400000000000004, 1.7280000000000009], [1.4000000000000001, 1.4000000000000001, 1.9600000000000004, 2.7440000000000007], [1.6, 1.6, 2.5600000000000005, 4.096000000000001], [1.8, 1.8, 3.24, 5.832000000000001], [2.0, 2.0, 4.0, 8.0], [2.2, 2.2, 4.840000000000001, 10.648000000000003], [2.4000000000000004, 2.4000000000000004, 5.760000000000002, 13.824000000000007], [2.6, 2.6, 6.760000000000001, 17.576], [2.8000000000000003, 2.8000000000000003, 7.840000000000002, 21.952000000000005], [3.0, 3.0, 9.0, 27.0], [3.2, 3.2, 10.240000000000002, 32.76800000000001], [3.4000000000000004, 3.4000000000000004, 11.560000000000002, 39.30400000000001], [3.6, 3.6, 12.96, 46.656000000000006], [3.8000000000000003, 3.8000000000000003, 14.440000000000001, 54.872000000000014], [4.0, 4.0, 16.0, 64.0], [4.2, 4.2, 17.64, 74.08800000000001], [4.4, 4.4, 19.360000000000003, 85.18400000000003], [4.6000000000000005, 4.6000000000000005, 21.160000000000004, 97.33600000000003], [4.800000000000001, 4.800000000000001, 23.040000000000006, 110.59200000000006]]}, \"id\": \"el86004403822800\"});\n",
       "      });\n",
       "    });\n",
       "}else{\n",
       "    // require.js not available: dynamically load d3 & mpld3\n",
       "    mpld3_load_lib(\"https://mpld3.github.io/js/d3.v3.min.js\", function(){\n",
       "         mpld3_load_lib(\"https://mpld3.github.io/js/mpld3.v0.3.js\", function(){\n",
       "                 \n",
       "                 mpld3.draw_figure(\"fig_el860044038228008784665518\", {\"axes\": [{\"xlim\": [0.0, 5.0], \"yscale\": \"linear\", \"axesbg\": \"#FFFFFF\", \"texts\": [], \"zoomable\": true, \"images\": [], \"xdomain\": [0.0, 5.0], \"ylim\": [0.0, 120.0], \"paths\": [], \"sharey\": [], \"sharex\": [], \"axesbgalpha\": null, \"axes\": [{\"scale\": \"linear\", \"tickformat\": null, \"grid\": {\"color\": \"#D3D3D3\", \"alpha\": 0.7, \"dasharray\": \"2,2\", \"gridOn\": true}, \"visible\": true, \"fontsize\": 10.0, \"position\": \"bottom\", \"nticks\": 6, \"tickvalues\": null}, {\"scale\": \"linear\", \"tickformat\": null, \"grid\": {\"color\": \"#D3D3D3\", \"alpha\": 0.7, \"dasharray\": \"2,2\", \"gridOn\": true}, \"visible\": true, \"fontsize\": 10.0, \"position\": \"left\", \"nticks\": 7, \"tickvalues\": null}], \"lines\": [{\"drawstyle\": \"default\", \"color\": \"#FF0000\", \"yindex\": 1, \"coordinates\": \"data\", \"dasharray\": \"6,6\", \"zorder\": 2, \"alpha\": 1, \"xindex\": 0, \"linewidth\": 1.0, \"data\": \"data01\", \"id\": \"el86004489509712\"}], \"markers\": [{\"edgecolor\": \"#000000\", \"facecolor\": \"#0000FF\", \"edgewidth\": 0.5, \"yindex\": 2, \"coordinates\": \"data\", \"zorder\": 2, \"markerpath\": [[[-3.0, 3.0], [3.0, 3.0], [3.0, -3.0], [-3.0, -3.0]], [\"M\", \"L\", \"L\", \"L\", \"Z\"]], \"alpha\": 1, \"xindex\": 0, \"data\": \"data01\", \"id\": \"el86004461889424pts\"}, {\"edgecolor\": \"#000000\", \"facecolor\": \"#007F00\", \"edgewidth\": 0.5, \"yindex\": 3, \"coordinates\": \"data\", \"zorder\": 2, \"markerpath\": [[[0.0, -3.0], [-3.0, 3.0], [3.0, 3.0]], [\"M\", \"L\", \"L\", \"Z\"]], \"alpha\": 1, \"xindex\": 0, \"data\": \"data01\", \"id\": \"el86004488314640pts\"}], \"id\": \"el86004489507088\", \"ydomain\": [0.0, 120.0], \"collections\": [], \"xscale\": \"linear\", \"bbox\": [0.125, 0.125, 0.77500000000000002, 0.77500000000000002]}], \"height\": 320.0, \"width\": 480.0, \"plugins\": [{\"type\": \"reset\"}, {\"enabled\": false, \"button\": true, \"type\": \"zoom\"}, {\"enabled\": false, \"button\": true, \"type\": \"boxzoom\"}], \"data\": {\"data01\": [[0.0, 0.0, 0.0, 0.0], [0.2, 0.2, 0.04000000000000001, 0.008000000000000002], [0.4, 0.4, 0.16000000000000003, 0.06400000000000002], [0.6000000000000001, 0.6000000000000001, 0.3600000000000001, 0.2160000000000001], [0.8, 0.8, 0.6400000000000001, 0.5120000000000001], [1.0, 1.0, 1.0, 1.0], [1.2000000000000002, 1.2000000000000002, 1.4400000000000004, 1.7280000000000009], [1.4000000000000001, 1.4000000000000001, 1.9600000000000004, 2.7440000000000007], [1.6, 1.6, 2.5600000000000005, 4.096000000000001], [1.8, 1.8, 3.24, 5.832000000000001], [2.0, 2.0, 4.0, 8.0], [2.2, 2.2, 4.840000000000001, 10.648000000000003], [2.4000000000000004, 2.4000000000000004, 5.760000000000002, 13.824000000000007], [2.6, 2.6, 6.760000000000001, 17.576], [2.8000000000000003, 2.8000000000000003, 7.840000000000002, 21.952000000000005], [3.0, 3.0, 9.0, 27.0], [3.2, 3.2, 10.240000000000002, 32.76800000000001], [3.4000000000000004, 3.4000000000000004, 11.560000000000002, 39.30400000000001], [3.6, 3.6, 12.96, 46.656000000000006], [3.8000000000000003, 3.8000000000000003, 14.440000000000001, 54.872000000000014], [4.0, 4.0, 16.0, 64.0], [4.2, 4.2, 17.64, 74.08800000000001], [4.4, 4.4, 19.360000000000003, 85.18400000000003], [4.6000000000000005, 4.6000000000000005, 21.160000000000004, 97.33600000000003], [4.800000000000001, 4.800000000000001, 23.040000000000006, 110.59200000000006]]}, \"id\": \"el86004403822800\"});\n",
       "            })\n",
       "         });\n",
       "}\n",
       "</script>"
      ],
      "text/plain": [
       "<IPython.core.display.HTML object>"
      ]
     },
     "execution_count": 66,
     "metadata": {},
     "output_type": "execute_result"
    }
   ],
   "source": [
    "# x = plt.plot(t, t, 'r--')\n",
    "# print figure(x)\n",
    "\n",
    "fig, ax = plt.subplots()\n",
    "ax.plot(t, t, 'r--', t, t**2, 'bs', t, t**3, 'g^')\n",
    "ax.grid(color='lightgray', alpha=0.7)\n",
    "chart = mpld3.display(fig)\n",
    "chart"
   ]
  },
  {
   "cell_type": "code",
   "execution_count": 8,
   "metadata": {
    "collapsed": false
   },
   "outputs": [
    {
     "data": {
      "image/png": "[encoded data removed]",
      "text/plain": [
       "<matplotlib.figure.Figure at 0x113039c10>"
      ]
     },
     "metadata": {},
     "output_type": "display_data"
    }
   ],
   "source": [
    "\n",
    "x = range(100)\n",
    "y = range(100,200)\n",
    "fig = plt.figure()\n",
    "ax1 = fig.add_subplot(111)\n",
    "\n",
    "# ax1.scatter(x[:4], y[:4], s=10, c='b', marker=\"s\", label='first')\n",
    "# ax1.scatter(x[40:],y[40:], s=10, c='r', marker=\"o\", label='second')\n",
    "ax1.scatter(x[:4], y[:4], color='b', label='fist')\n",
    "ax1.scatter(x[40:],y[40:], color='r', label='second')\n",
    "plt.legend(loc='upper left');\n",
    "plt.show()"
   ]
  },
  {
   "cell_type": "code",
   "execution_count": null,
   "metadata": {
    "collapsed": true
   },
   "outputs": [],
   "source": [
    "X_train = [1,2,3,4,5]\n",
    "y_train = [4,6,7,8,3]\n",
    "X_test = [1,2]"
   ]
  },
  {
   "cell_type": "code",
   "execution_count": 13,
   "metadata": {
    "collapsed": false
   },
   "outputs": [
    {
     "ename": "NameError",
     "evalue": "name 'X_train' is not defined",
     "output_type": "error",
     "traceback": [
      "\u001b[0;31m---------------------------------------------------------------------------\u001b[0m",
      "\u001b[0;31mNameError\u001b[0m                                 Traceback (most recent call last)",
      "\u001b[0;32m<ipython-input-13-f937b1e77c81>\u001b[0m in \u001b[0;36m<module>\u001b[0;34m()\u001b[0m\n\u001b[1;32m      4\u001b[0m \u001b[0;34m\u001b[0m\u001b[0m\n\u001b[1;32m      5\u001b[0m \u001b[0mlin_reg\u001b[0m \u001b[0;34m=\u001b[0m \u001b[0mLinearRegression\u001b[0m\u001b[0;34m(\u001b[0m\u001b[0;34m)\u001b[0m\u001b[0;34m\u001b[0m\u001b[0m\n\u001b[0;32m----> 6\u001b[0;31m \u001b[0mlin_reg_est\u001b[0m \u001b[0;34m=\u001b[0m \u001b[0mlin_reg\u001b[0m\u001b[0;34m.\u001b[0m\u001b[0mpredict\u001b[0m\u001b[0;34m(\u001b[0m\u001b[0mX_train\u001b[0m\u001b[0;34m,\u001b[0m \u001b[0my_train\u001b[0m\u001b[0;34m)\u001b[0m\u001b[0;34m\u001b[0m\u001b[0m\n\u001b[0m\u001b[1;32m      7\u001b[0m \u001b[0my_pred\u001b[0m \u001b[0;34m=\u001b[0m \u001b[0mlin_reg_est\u001b[0m\u001b[0;34m.\u001b[0m\u001b[0mfit\u001b[0m\u001b[0;34m(\u001b[0m\u001b[0mX_test\u001b[0m\u001b[0;34m,\u001b[0m \u001b[0my_test\u001b[0m\u001b[0;34m)\u001b[0m\u001b[0;34m\u001b[0m\u001b[0m\n",
      "\u001b[0;31mNameError\u001b[0m: name 'X_train' is not defined"
     ]
    }
   ],
   "source": [
    "from sklearn.linear_model import LinearRegression\n",
    "\n",
    "\n",
    "lin_reg = LinearRegression()\n",
    "lin_reg_est = lin_reg.predict(X_train, y_train)\n",
    "y_pred = lin_reg_est.fit(X_test, y_test)"
   ]
  },
  {
   "cell_type": "code",
   "execution_count": null,
   "metadata": {
    "collapsed": true
   },
   "outputs": [],
   "source": []
  }
 ],
 "metadata": {
  "kernelspec": {
   "display_name": "Python 2",
   "language": "python",
   "name": "python2"
  },
  "language_info": {
   "codemirror_mode": {
    "name": "ipython",
    "version": 2
   },
   "file_extension": ".py",
   "mimetype": "text/x-python",
   "name": "python",
   "nbconvert_exporter": "python",
   "pygments_lexer": "ipython2",
   "version": "2.7.10"
  }
 },
 "nbformat": 4,
 "nbformat_minor": 0
}
